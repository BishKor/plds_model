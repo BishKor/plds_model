{
 "cells": [
  {
   "cell_type": "code",
   "execution_count": 90,
   "metadata": {},
   "outputs": [],
   "source": [
    "import numpy as np\n",
    "import scipy.sparse as scsp\n",
    "import scipy.sparse.linalg as splin\n",
    "import matplotlib.pyplot as plt\n",
    "import time\n",
    "import sksparse.cholmod as chol\n",
    "np.set_printoptions(precision=2)"
   ]
  },
  {
   "cell_type": "code",
   "execution_count": 91,
   "metadata": {},
   "outputs": [],
   "source": [
    "def blocktridiaginv(m, bw, nb):\n",
    "    decomp = chol.cholesky(h, ordering_method=\"natural\")\n",
    "    L = decomp.L()\n",
    "    P = decomp.P()\n",
    "    U = L.toarray().T\n",
    "#     U = np.linalg.cholesky(h)#.toarray())\n",
    "    S = np.zeros_like(h.toarray())\n",
    "    S[-bw:,-bw:] = np.linalg.inv(U[-bw:,-bw:].T @ U[-bw:,-bw:])\n",
    "    for t in np.arange(nts-2, -1, -1):\n",
    "        S[t*bw:(t+1)*bw, (t+1)*bw:(t+2)*bw] = - np.linalg.inv(U[t*bw:(t+1)*bw, t*bw:(t+1)*bw]) @ U[t*bw:(t+1)*bw, (t+1)*bw:(t+2)*bw] @ S[(t+1)*bw:(t+2)*bw, (t+1)*bw:(t+2)*bw]\n",
    "        S[t*bw:(t+1)*bw, t*bw:(t+1)*bw] = np.linalg.inv(U[t*bw:(t+1)*bw, t*bw:(t+1)*bw].T @ U[t*bw:(t+1)*bw, t*bw:(t+1)*bw]) \\\n",
    "                                              - S[t*bw:(t+1)*bw, (t+1)*bw:(t+2)*bw] @ (np.linalg.inv(U[t*bw:(t+1)*bw, t*bw:(t+1)*bw]) @ U[t*bw:(t+1)*bw, (t+1)*bw:(t+2)*bw]).T\n",
    "        S[(t+1)*bw:(t+2)*bw, t*bw:(t+1)*bw] = S[t*bw:(t+1)*bw, (t+1)*bw:(t+2)*bw].T\n",
    "    return S#[P[:, np.newaxis], P[np.newaxis, :]]"
   ]
  },
  {
   "cell_type": "code",
   "execution_count": 92,
   "metadata": {},
   "outputs": [],
   "source": [
    "def logposteriorhessian(y, C, d, A, B, q, q0, m0, u, nts, nn, nsd, nld):\n",
    "    def f(x):\n",
    "\n",
    "        Qinv = np.linalg.inv(q)\n",
    "        Q0inv = np.linalg.inv(q0)\n",
    "        ATQinvA = A.T @ Qinv @ A\n",
    "        ATQinvAplusQinv = ATQinvA + Qinv\n",
    "        ATQinv = A.T @ Qinv\n",
    "\n",
    "        diag = []\n",
    "        off_diag = []\n",
    "        diag.append(scsp.lil_matrix(Q0inv + ATQinvA + sum(np.exp(C[i] @ x[:nld] + d[i]) * np.outer(C[i], C[i].T)\n",
    "                                          for i in range(nn))))\n",
    "        for t in range(1, nts-1):\n",
    "            diag.append(scsp.lil_matrix(sum(np.exp(C[i] @ x[t*nld:(t+1)*nld] + d[i]) * np.outer(C[i], C[i].T)\n",
    "                                          for i in range(nn)) + ATQinvAplusQinv))\n",
    "        diag.append(scsp.lil_matrix(Qinv + sum(np.exp(C[i] @ x[-nld:] + d[i]) * np.outer(C[i], C[i].T)\n",
    "                                          for i in range(nn))))\n",
    "\n",
    "        for t in range(0, nts-1):\n",
    "            off_diag.append(scsp.lil_matrix(-ATQinv))\n",
    "\n",
    "        h = scsp.block_diag(diag).tolil()\n",
    "        od = scsp.block_diag(off_diag).tolil()\n",
    "\n",
    "        h[:-nld, nld:] += od\n",
    "        h[nld:, :-nld] += od.T\n",
    "\n",
    "        return h.tocsc()\n",
    "    return f"
   ]
  },
  {
   "cell_type": "code",
   "execution_count": null,
   "metadata": {},
   "outputs": [],
   "source": [
    "nblocks = np.arange(1,400,20)\n",
    "sparsetimes = np.zeros(len(nblocks))\n",
    "fulltimes = np.zeros(len(nblocks))\n",
    "ntrials = 10\n",
    "blockwidth = 200\n",
    "for trial in range(1, ntrials):\n",
    "    blocks = []\n",
    "    stimes = []\n",
    "    ftimes = []\n",
    "    for b in nblocks:\n",
    "        blocks.append(scsp.coo_matrix(np.random.randn(blockwidth*blockwidth).reshape(-1, blockwidth)))\n",
    "        sparsematrix = scsp.block_diag(blocks)\n",
    "        fullmatrix = sparsematrix.toarray()\n",
    "        vector = np.random.randn(fullmatrix.shape[0])\n",
    "\n",
    "        tstart = time.clock()\n",
    "        scsp.spsolve(sparsematrix, vector)\n",
    "        stimes.append(time.clock() - tstart)\n",
    "\n",
    "        tstart = time.clock()\n",
    "        np.linalg.solve(fullmatrix, vector)\n",
    "        ftimes.append(time.clock() - tstart)\n",
    "    \n",
    "    sparsetimes += np.array(stimes)/ntrials\n",
    "    fulltimes += np.array(ftimes)/ntrials\n",
    "    \n",
    "sparseline, = plt.plot(nblocks, sparsetimes, 'b', label=\"Sparse Solve\")\n",
    "fullline, = plt.plot(nblocks, fulltimes, 'g', label=\"Full Matrix Solve\")\n",
    "plt.xlabel('N blocks')\n",
    "plt.ylabel('Computation Time')\n",
    "plt.legend(handles=[sparseline, fullline])\n",
    "plt.show()"
   ]
  },
  {
   "cell_type": "code",
   "execution_count": null,
   "metadata": {},
   "outputs": [],
   "source": [
    "fit = np.polyfit(nblocks, sparsetimes, 1)\n",
    "fit1 = np.poly1d(fit)\n",
    "sparseline, = plt.plot(nblocks, sparsetimes, 'b', label=\"Sparse Solve\")\n",
    "polyline, = plt.plot(nblocks, fit1(nblocks), 'g', label=\"Linear Fit\")\n",
    "plt.xlabel('N blocks')\n",
    "plt.ylabel('Computation Time')\n",
    "plt.legend(handles=[sparseline, polyline], loc=2)\n",
    "plt.show()"
   ]
  },
  {
   "cell_type": "code",
   "execution_count": 99,
   "metadata": {},
   "outputs": [
    {
     "data": {
      "image/png": "[encoded data removed]",
      "text/plain": [
       "<matplotlib.figure.Figure at 0x11966fe48>"
      ]
     },
     "metadata": {},
     "output_type": "display_data"
    }
   ],
   "source": [
    "nblocks = np.arange(3,3004, 1000)\n",
    "sparsetimes = np.zeros(len(nblocks))\n",
    "choltimes = np.zeros(len(nblocks))\n",
    "fulltimes = np.zeros(len(nblocks))\n",
    "cholmodtimes = np.zeros(len(nblocks))\n",
    "ntrials = 1\n",
    "bw = 5\n",
    "for trial in range(1, ntrials+1):\n",
    "    ctimes = []\n",
    "    chtimes = []\n",
    "    stimes = []\n",
    "    ftimes = []\n",
    "    for b in nblocks:\n",
    "        nts = b\n",
    "        nn = 6\n",
    "        nld = bw\n",
    "        nsd = 4\n",
    "        \n",
    "        u = np.zeros(nts * nsd)\n",
    "        C = np.random.randn(nn, nld)\n",
    "        d = np.random.randn(nn)\n",
    "        m0 = np.random.rand(nld)\n",
    "        A = np.random.randn(nld, nld)/2\n",
    "        q0 = np.identity(nld)\n",
    "        q = np.identity(nld)\n",
    "        B = np.zeros((nld, nsd))\n",
    "        mu = np.random.randn(nld*nts)\n",
    "        \n",
    "        Cgen = np.random.randn(nn, nld)/10\n",
    "        dgen = np.random.randn(nn)/2\n",
    "        Agen = np.random.randn(nld, nld)/10\n",
    "\n",
    "        x = np.random.randn(nld)\n",
    "        y = np.exp(C @ x + d)\n",
    "        # y = [np.random.poisson(lam=np.exp(C @ x[0] + d))]\n",
    "\n",
    "        for t in range(nts-1):\n",
    "            x = np.concatenate([x, Agen @ x[t*nld:(t+1)*nld]])\n",
    "            y = np.concatenate([y, np.exp(C @ x[(t+1)*nld:(t+2)*nld] + dgen)])\n",
    "            \n",
    "        h = logposteriorhessian(y, C, d, A, B, q, q0, m0, u, nts, nn, nsd, nld)(mu)\n",
    "        \n",
    "        tstart = time.clock()\n",
    "        splin.inv(h)\n",
    "        stimes.append(time.clock() - tstart)\n",
    "\n",
    "        harr = h.toarray()\n",
    "#         tstart = time.clock()\n",
    "#         np.linalg.inv(harr)\n",
    "#         ftimes.append(time.clock() - tstart)\n",
    "    \n",
    "        \n",
    "        tstart = time.clock()\n",
    "        blocktridiaginv(h, bw, nts)\n",
    "        ctimes.append(time.clock() - tstart)\n",
    "        \n",
    "        tstart = time.clock()\n",
    "        chol.cholesky(h).inv()\n",
    "        chtimes.append(time.clock() - tstart)\n",
    "        \n",
    "    sparsetimes += np.array(stimes)/ntrials\n",
    "#     fulltimes += np.array(ftimes)/ntrials\n",
    "    choltimes += np.array(ctimes)/ntrials\n",
    "    cholmodtimes += np.array(chtimes)/ntrials\n",
    "    \n",
    "sparseline, = plt.plot(nblocks, sparsetimes, 'b', label=\"Sparse Inverse\")\n",
    "cholline, = plt.plot(nblocks, choltimes, 'g', label=\"Cholesky Inverse\")\n",
    "# fullline, = plt.plot(nblocks, fulltimes, 'r', label=\"Standard Inverse\")\n",
    "cholmodline, = plt.plot(nblocks, cholmodtimes, 'k', label=\"CHOLMOD Inverse\")\n",
    "plt.xlabel('N blocks')\n",
    "plt.ylabel('Computation Time')\n",
    "plt.legend(handles=[sparseline, cholline, cholmodline], loc=2)\n",
    "plt.show()"
   ]
  },
  {
   "cell_type": "code",
   "execution_count": null,
   "metadata": {},
   "outputs": [],
   "source": [
    "sfit = np.polyfit(nblocks, sparsetimes, 1)\n",
    "sfit1 = np.poly1d(sfit)\n",
    "sparseline, = plt.plot(nblocks, sparsetimes, 'b', label=\"Sparse Inv\")\n",
    "spolyline, = plt.plot(nblocks, sfit1(nblocks), 'g', label=\"Sparse Linear Fit\")\n",
    "\n",
    "ffit = np.polyfit(nblocks, choltimes, 1)\n",
    "ffit1 = np.poly1d(ffit)\n",
    "fullline, = plt.plot(nblocks, choltimes, 'r', label=\"Cholesky Inv\")\n",
    "fpolyline, = plt.plot(nblocks, ffit1(nblocks), 'k', label=\"BW Linear Fit\")\n",
    "\n",
    "plt.xlabel('N blocks')\n",
    "plt.ylabel('Computation Time')\n",
    "plt.legend(handles=[sparseline, spolyline, fullline, fpolyline], loc=2)\n",
    "plt.show()"
   ]
  },
  {
   "cell_type": "code",
   "execution_count": null,
   "metadata": {},
   "outputs": [],
   "source": [
    "ffit = np.polyfit(nblocks, fulltimes, 1)\n",
    "ffit1 = np.poly1d(ffit)\n",
    "fullline, = plt.plot(nblocks, fulltimes, 'r', label=\"Block-wise Full Solve\")\n",
    "fpolyline, = plt.plot(nblocks, ffit1(nblocks), 'k', label=\"BW Linear Fit\")\n",
    "\n",
    "plt.xlabel('N blocks')\n",
    "plt.ylabel('Computation Time')\n",
    "plt.legend(handles=[fullline, fpolyline], loc=2)\n",
    "plt.show()"
   ]
  },
  {
   "cell_type": "code",
   "execution_count": 94,
   "metadata": {},
   "outputs": [],
   "source": [
    "nts = 3\n",
    "nn = 2\n",
    "nld = 2\n",
    "nsd = 4\n",
    "y = np.load('../testmats/ygen.npy')\n",
    "u = np.zeros(nts * nsd)\n",
    "\n",
    "# Initialize parameters to random values\n",
    "C = np.random.randn(nn, nld)\n",
    "d = np.random.randn(nn)\n",
    "m0 = np.random.rand(nld)\n",
    "A = np.random.randn(nld, nld)\n",
    "q0 = np.identity(nld)\n",
    "q = np.identity(nld)\n",
    "B = np.zeros((nld, nsd))\n",
    "mu = np.random.randn(nld*nts) # np.load('../testmats/xgen.npy.npy')\n",
    "\n",
    "h = logposteriorhessian(y, C, d, A, B, q, q0, m0, u, nts, nn, nsd, nld)(mu)"
   ]
  },
  {
   "cell_type": "code",
   "execution_count": 95,
   "metadata": {},
   "outputs": [
    {
     "name": "stdout",
     "output_type": "stream",
     "text": [
      "[[  8.52e-02   1.31e-03   4.48e-02  -1.27e-01   0.00e+00   0.00e+00]\n",
      " [  1.31e-03   4.41e-01   4.05e-02   2.14e-01   0.00e+00   0.00e+00]\n",
      " [  4.48e-02   4.05e-02   2.87e-01  -1.44e-01   7.87e-03  -6.02e-01]\n",
      " [ -1.27e-01   2.14e-01  -1.44e-01   9.84e-01   4.60e-02   9.53e-01]\n",
      " [  0.00e+00   0.00e+00   7.87e-03   4.60e-02   6.92e-02   3.41e-02]\n",
      " [  0.00e+00   0.00e+00  -6.02e-01   9.53e-01   3.41e-02   2.61e+00]]\n",
      "[[  8.52e-02   1.31e-03   4.48e-02  -1.27e-01  -4.49e-03  -1.69e-01]\n",
      " [  1.31e-03   4.41e-01   4.05e-02   2.14e-01   1.39e-02   8.23e-02]\n",
      " [  4.48e-02   4.05e-02   2.87e-01  -1.44e-01   7.87e-03  -6.02e-01]\n",
      " [ -1.27e-01   2.14e-01  -1.44e-01   9.84e-01   4.60e-02   9.53e-01]\n",
      " [ -4.49e-03   1.39e-02   7.87e-03   4.60e-02   6.92e-02   3.41e-02]\n",
      " [ -1.69e-01   8.23e-02  -6.02e-01   9.53e-01   3.41e-02   2.61e+00]]\n"
     ]
    }
   ],
   "source": [
    "# print(h.toarray())\n",
    "print(blocktridiaginv(h, nld, nts))\n",
    "# print(splin.inv(h).toarray())\n",
    "print(np.linalg.inv(h.toarray()))\n",
    "# print(chol.cholesky(h).inv().toarray()[-6:, -6:])"
   ]
  },
  {
   "cell_type": "code",
   "execution_count": 58,
   "metadata": {},
   "outputs": [
    {
     "data": {
      "text/plain": [
       "array([[ 2.12, -0.5 ,  0.47,  0.07,  0.  ,  0.  ],\n",
       "       [-0.5 ,  6.81, -1.64, -1.66,  0.  ,  0.  ],\n",
       "       [ 0.47, -1.64,  4.37, -0.83,  0.47,  0.07],\n",
       "       [ 0.07, -1.66, -0.83,  7.55, -1.64, -1.66],\n",
       "       [ 0.  ,  0.  ,  0.47, -1.64,  4.3 , -0.81],\n",
       "       [ 0.  ,  0.  ,  0.07, -1.66, -0.81,  2.06]])"
      ]
     },
     "execution_count": 58,
     "metadata": {},
     "output_type": "execute_result"
    }
   ],
   "source": [
    "h.toarray()"
   ]
  },
  {
   "cell_type": "code",
   "execution_count": 85,
   "metadata": {},
   "outputs": [],
   "source": [
    "U=chol.cholesky(h, beta=0, ordering_method=\"natural\")"
   ]
  },
  {
   "cell_type": "code",
   "execution_count": 86,
   "metadata": {
    "scrolled": true
   },
   "outputs": [],
   "source": [
    "L = U.L().toarray()\n",
    "P = U.P()"
   ]
  },
  {
   "cell_type": "code",
   "execution_count": 87,
   "metadata": {},
   "outputs": [
    {
     "name": "stdout",
     "output_type": "stream",
     "text": [
      "[[ 13.03  -3.51   2.13   0.57   0.     0.  ]\n",
      " [ -3.51  11.93   1.79  -1.28   0.     0.  ]\n",
      " [  2.13   1.79  12.39  -2.93   2.13   0.57]\n",
      " [  0.57  -1.28  -2.93  11.39   1.79  -1.28]\n",
      " [  0.     0.     2.13   1.79  14.18 -18.79]\n",
      " [  0.     0.     0.57  -1.28 -18.79  27.8 ]]\n",
      "[[ 13.03  -3.51   2.13   0.57   0.     0.  ]\n",
      " [ -3.51  11.93   1.79  -1.28   0.     0.  ]\n",
      " [  2.13   1.79  12.39  -2.93   2.13   0.57]\n",
      " [  0.57  -1.28  -2.93  11.39   1.79  -1.28]\n",
      " [  0.     0.     2.13   1.79  14.18 -18.79]\n",
      " [  0.     0.     0.57  -1.28 -18.79  27.8 ]]\n"
     ]
    }
   ],
   "source": [
    "print(h.toarray())\n",
    "print((L @ L.T))"
   ]
  },
  {
   "cell_type": "code",
   "execution_count": 84,
   "metadata": {},
   "outputs": [
    {
     "name": "stdout",
     "output_type": "stream",
     "text": [
      "[4 5 0 1 2 3]\n"
     ]
    }
   ],
   "source": [
    "print(P)"
   ]
  },
  {
   "cell_type": "code",
   "execution_count": null,
   "metadata": {},
   "outputs": [],
   "source": [
    "L"
   ]
  },
  {
   "cell_type": "code",
   "execution_count": null,
   "metadata": {},
   "outputs": [],
   "source": [
    "h[P[:, np.newaxis], P[np.newaxis, :]].toarray()"
   ]
  },
  {
   "cell_type": "code",
   "execution_count": null,
   "metadata": {},
   "outputs": [],
   "source": [
    "h.toarray()"
   ]
  },
  {
   "cell_type": "code",
   "execution_count": 68,
   "metadata": {},
   "outputs": [
    {
     "data": {
      "text/plain": [
       "[array([[4],\n",
       "        [5],\n",
       "        [0],\n",
       "        [1],\n",
       "        [2],\n",
       "        [3]], dtype=int32), array([[4, 5, 0, 1, 2, 3]], dtype=int32)]"
      ]
     },
     "execution_count": 68,
     "metadata": {},
     "output_type": "execute_result"
    }
   ],
   "source": [
    "[P[:, np.newaxis], P[np.newaxis, :]]"
   ]
  },
  {
   "cell_type": "code",
   "execution_count": null,
   "metadata": {},
   "outputs": [],
   "source": []
  }
 ],
 "metadata": {
  "kernelspec": {
   "display_name": "Python 3",
   "language": "python",
   "name": "python3"
  },
  "language_info": {
   "codemirror_mode": {
    "name": "ipython",
    "version": 3
   },
   "file_extension": ".py",
   "mimetype": "text/x-python",
   "name": "python",
   "nbconvert_exporter": "python",
   "pygments_lexer": "ipython3",
   "version": "3.6.3"
  }
 },
 "nbformat": 4,
 "nbformat_minor": 2
}
